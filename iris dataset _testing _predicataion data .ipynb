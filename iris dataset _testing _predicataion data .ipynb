{
 "cells": [
  {
   "cell_type": "code",
   "execution_count": 1,
   "id": "fa5b9ac6-6110-49b3-baf2-50d6715f5664",
   "metadata": {},
   "outputs": [
    {
     "name": "stdout",
     "output_type": "stream",
     "text": [
      "✅ Model & Scaler successfully loaded!\n"
     ]
    }
   ],
   "source": [
    "import joblib\n",
    "import os\n",
    "\n",
    "downloads_path = os.path.join(os.path.expanduser(\"~\"), \"Downloads\")\n",
    "\n",
    "# path banado\n",
    "model_path = os.path.join(downloads_path, \"model_new_new.pkl\")\n",
    "scaler_path = os.path.join(downloads_path, \"scaler_new_new.pkl\")\n",
    "\n",
    "# load karo\n",
    "model = joblib.load(model_path)\n",
    "scaler = joblib.load(scaler_path)\n",
    "\n",
    "print(\"✅ Model & Scaler successfully loaded!\")\n"
   ]
  },
  {
   "cell_type": "code",
   "execution_count": 2,
   "id": "f3845cbd-bcea-4615-894b-61df5b135b2c",
   "metadata": {},
   "outputs": [
    {
     "name": "stdout",
     "output_type": "stream",
     "text": [
      "   sepal.length  sepal.width  petal.length  petal.width     variety\n",
      "0           5.1          3.5           1.4          0.2      Setosa\n",
      "1           4.9          3.0           1.4          0.2      Setosa\n",
      "2           6.3          3.3           4.7          1.5  Versicolor\n",
      "3           5.8          2.7           5.1          1.9   Virginica\n",
      "4           6.0          2.9           5.0          1.8   Virginica\n",
      "5           5.4          3.9           1.7          0.4      Setosa\n",
      "6           5.7          3.8           4.5          1.5  Versicolor\n",
      "7           6.1          3.0           5.2          2.0   Virginica\n",
      "8           5.5          2.3           4.0          1.3  Versicolor\n",
      "9           5.0          3.4           1.5          0.2      Setosa\n"
     ]
    }
   ],
   "source": [
    "import pandas as pd\n",
    "\n",
    "# Synthetic dataset\n",
    "data = {\n",
    "    'sepal.length': [5.1, 4.9, 6.3, 5.8, 6.0, 5.4, 5.7, 6.1, 5.5, 5.0],\n",
    "    'sepal.width':  [3.5, 3.0, 3.3, 2.7, 2.9, 3.9, 3.8, 3.0, 2.3, 3.4],\n",
    "    'petal.length': [1.4, 1.4, 4.7, 5.1, 5.0, 1.7, 4.5, 5.2, 4.0, 1.5],\n",
    "    'petal.width':  [0.2, 0.2, 1.5, 1.9, 1.8, 0.4, 1.5, 2.0, 1.3, 0.2],\n",
    "    'variety':      ['Setosa', 'Setosa', 'Versicolor', 'Virginica', 'Virginica',\n",
    "                     'Setosa', 'Versicolor', 'Virginica', 'Versicolor', 'Setosa']\n",
    "}\n",
    "\n",
    "df_new = pd.DataFrame(data)\n",
    "print(df_new)"
   ]
  },
  {
   "cell_type": "code",
   "execution_count": 3,
   "id": "ff4b4c42-6ca2-4e15-82cc-c10c0ac713a2",
   "metadata": {},
   "outputs": [
    {
     "name": "stdout",
     "output_type": "stream",
     "text": [
      "   sepal.length  sepal.width  petal.length  petal.width     variety  \\\n",
      "0           5.1          3.5           1.4          0.2      Setosa   \n",
      "1           4.9          3.0           1.4          0.2      Setosa   \n",
      "2           6.3          3.3           4.7          1.5  Versicolor   \n",
      "3           5.8          2.7           5.1          1.9   Virginica   \n",
      "4           6.0          2.9           5.0          1.8   Virginica   \n",
      "5           5.4          3.9           1.7          0.4      Setosa   \n",
      "6           5.7          3.8           4.5          1.5  Versicolor   \n",
      "7           6.1          3.0           5.2          2.0   Virginica   \n",
      "8           5.5          2.3           4.0          1.3  Versicolor   \n",
      "9           5.0          3.4           1.5          0.2      Setosa   \n",
      "\n",
      "   sepal_area  petal_area  \n",
      "0       17.85        0.28  \n",
      "1       14.70        0.28  \n",
      "2       20.79        7.05  \n",
      "3       15.66        9.69  \n",
      "4       17.40        9.00  \n",
      "5       21.06        0.68  \n",
      "6       21.66        6.75  \n",
      "7       18.30       10.40  \n",
      "8       12.65        5.20  \n",
      "9       17.00        0.30  \n"
     ]
    }
   ],
   "source": [
    "df_new['sepal_area'] = df_new['sepal.length'] * df_new['sepal.width']\n",
    "df_new['petal_area'] = df_new['petal.length'] * df_new['petal.width']\n",
    "print(df_new)\n"
   ]
  },
  {
   "cell_type": "code",
   "execution_count": 4,
   "id": "805de436-668e-488b-a313-9e5950805dfb",
   "metadata": {},
   "outputs": [
    {
     "name": "stdout",
     "output_type": "stream",
     "text": [
      "      variety predicted_variety\n",
      "0      Setosa            Setosa\n",
      "1      Setosa            Setosa\n",
      "2  Versicolor        Versicolor\n",
      "3   Virginica         Virginica\n",
      "4   Virginica         Virginica\n",
      "5      Setosa            Setosa\n",
      "6  Versicolor        Versicolor\n",
      "7   Virginica         Virginica\n",
      "8  Versicolor        Versicolor\n",
      "9      Setosa            Setosa\n"
     ]
    }
   ],
   "source": [
    "X_new = df_new[['sepal.length', 'sepal.width', 'petal.length', 'petal.width', \n",
    "                'sepal_area', 'petal_area']]\n",
    "\n",
    "X_new_scaled = scaler.transform(X_new)\n",
    "\n",
    "y_pred_new = model.predict(X_new_scaled)\n",
    "df_new['predicted_variety'] = y_pred_new\n",
    "\n",
    "print(df_new[['variety', 'predicted_variety']])"
   ]
  },
  {
   "cell_type": "code",
   "execution_count": 5,
   "id": "9fc83d73-ce43-476d-8e64-6abda2efef6f",
   "metadata": {},
   "outputs": [
    {
     "data": {
      "image/png": "[encoded data removed]",
      "text/plain": [
       "<Figure size 1000x600 with 1 Axes>"
      ]
     },
     "metadata": {},
     "output_type": "display_data"
    }
   ],
   "source": [
    "import pandas as pd\n",
    "import matplotlib.pyplot as plt\n",
    "\n",
    "\n",
    "ct = pd.crosstab(df_new['variety'], df_new['predicted_variety'])\n",
    "\n",
    "\n",
    "ct.plot(kind='bar', stacked=True, figsize=(10,6), colormap='Set2')\n",
    "\n",
    "plt.title('Actual vs Predicted Variety (Stacked Bar Chart)')\n",
    "plt.xlabel('Actual Variety')\n",
    "plt.ylabel('Count')\n",
    "plt.legend(title='Predicted')\n",
    "plt.xticks(rotation=0)\n",
    "plt.show()"
   ]
  },
  {
   "cell_type": "code",
   "execution_count": null,
   "id": "7d3e3aa5-731b-4278-af34-c1c953a594d3",
   "metadata": {},
   "outputs": [],
   "source": []
  }
 ],
 "metadata": {
  "kernelspec": {
   "display_name": "Python 3 (ipykernel)",
   "language": "python",
   "name": "python3"
  },
  "language_info": {
   "codemirror_mode": {
    "name": "ipython",
    "version": 3
   },
   "file_extension": ".py",
   "mimetype": "text/x-python",
   "name": "python",
   "nbconvert_exporter": "python",
   "pygments_lexer": "ipython3",
   "version": "3.13.5"
  }
 },
 "nbformat": 4,
 "nbformat_minor": 5
}
